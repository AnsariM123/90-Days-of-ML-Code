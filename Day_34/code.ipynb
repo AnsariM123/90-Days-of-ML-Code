{
 "cells": [
  {
   "cell_type": "markdown",
   "id": "7dde3fd0",
   "metadata": {},
   "source": [
    "# Day 34 - t-SNE & UMAP Visualization\n"
   ]
  },
  {
   "cell_type": "markdown",
   "id": "134ff35e",
   "metadata": {},
   "source": [
    "Welcome to Day 34 of the 90 Days of ML Code journey!\n",
    "\n",
    "**Topic:** t-SNE & UMAP Visualization\n",
    "\n",
    "Let's dive into today's topic."
   ]
  },
  {
   "cell_type": "code",
   "execution_count": null,
   "id": "bc98752b",
   "metadata": {},
   "outputs": [],
   "source": [
    "# Example code for t-SNE & UMAP Visualization\n",
    "print('This is Day 34: t-SNE & UMAP Visualization')"
   ]
  },
  {
   "cell_type": "markdown",
   "id": "7fedca49",
   "metadata": {},
   "source": [
    "## 🧠 Quiz\n",
    "- What is the main concept of t-SNE & UMAP Visualization?\n",
    "- Why is it important in ML?"
   ]
  },
  {
   "cell_type": "markdown",
   "id": "1689c545",
   "metadata": {},
   "source": [
    "## 📝 Practice\n",
    "- Implement a basic example related to t-SNE & UMAP Visualization.\n",
    "- Explore a dataset and apply what you learned."
   ]
  }
 ],
 "metadata": {},
 "nbformat": 4,
 "nbformat_minor": 5
}
