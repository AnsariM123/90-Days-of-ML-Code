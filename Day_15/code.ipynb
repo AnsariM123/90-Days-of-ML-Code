{
 "cells": [
  {
   "cell_type": "markdown",
   "id": "bb17de55",
   "metadata": {},
   "source": [
    "# Day 15 - Train/Test Split & Cross-Validation\n"
   ]
  },
  {
   "cell_type": "markdown",
   "id": "784d11f5",
   "metadata": {},
   "source": [
    "Welcome to Day 15 of the 90 Days of ML Code journey!\n",
    "\n",
    "**Topic:** Train/Test Split & Cross-Validation\n",
    "\n",
    "Let's dive into today's topic."
   ]
  },
  {
   "cell_type": "code",
   "execution_count": null,
   "id": "7cd04972",
   "metadata": {},
   "outputs": [],
   "source": [
    "# Example code for Train/Test Split & Cross-Validation\n",
    "print('This is Day 15: Train/Test Split & Cross-Validation')"
   ]
  },
  {
   "cell_type": "markdown",
   "id": "197234cc",
   "metadata": {},
   "source": [
    "## 🧠 Quiz\n",
    "- What is the main concept of Train/Test Split & Cross-Validation?\n",
    "- Why is it important in ML?"
   ]
  },
  {
   "cell_type": "markdown",
   "id": "1e778d56",
   "metadata": {},
   "source": [
    "## 📝 Practice\n",
    "- Implement a basic example related to Train/Test Split & Cross-Validation.\n",
    "- Explore a dataset and apply what you learned."
   ]
  }
 ],
 "metadata": {},
 "nbformat": 4,
 "nbformat_minor": 5
}
