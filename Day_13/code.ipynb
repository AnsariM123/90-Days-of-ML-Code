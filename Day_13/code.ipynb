{
 "cells": [
  {
   "cell_type": "markdown",
   "id": "10313e02",
   "metadata": {},
   "source": [
    "# Day 13 - K-Nearest Neighbors (KNN)\n"
   ]
  },
  {
   "cell_type": "markdown",
   "id": "d915da43",
   "metadata": {},
   "source": [
    "Welcome to Day 13 of the 90 Days of ML Code journey!\n",
    "\n",
    "**Topic:** K-Nearest Neighbors (KNN)\n",
    "\n",
    "Let's dive into today's topic."
   ]
  },
  {
   "cell_type": "code",
   "execution_count": null,
   "id": "2a042c55",
   "metadata": {},
   "outputs": [],
   "source": [
    "# Example code for K-Nearest Neighbors (KNN)\n",
    "print('This is Day 13: K-Nearest Neighbors (KNN)')"
   ]
  },
  {
   "cell_type": "markdown",
   "id": "7b20e9a8",
   "metadata": {},
   "source": [
    "## 🧠 Quiz\n",
    "- What is the main concept of K-Nearest Neighbors (KNN)?\n",
    "- Why is it important in ML?"
   ]
  },
  {
   "cell_type": "markdown",
   "id": "c40516c8",
   "metadata": {},
   "source": [
    "## 📝 Practice\n",
    "- Implement a basic example related to K-Nearest Neighbors (KNN).\n",
    "- Explore a dataset and apply what you learned."
   ]
  }
 ],
 "metadata": {},
 "nbformat": 4,
 "nbformat_minor": 5
}
