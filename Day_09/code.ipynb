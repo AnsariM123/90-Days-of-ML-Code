{
 "cells": [
  {
   "cell_type": "markdown",
   "id": "1a8a8ef5",
   "metadata": {},
   "source": [
    "# Day 09 - Linear Regression Basics\n"
   ]
  },
  {
   "cell_type": "markdown",
   "id": "1b1fe632",
   "metadata": {},
   "source": [
    "Welcome to Day 09 of the 90 Days of ML Code journey!\n",
    "\n",
    "**Topic:** Linear Regression Basics\n",
    "\n",
    "Let's dive into today's topic."
   ]
  },
  {
   "cell_type": "code",
   "execution_count": null,
   "id": "8d1a8fe2",
   "metadata": {},
   "outputs": [],
   "source": [
    "# Example code for Linear Regression Basics\n",
    "print('This is Day 09: Linear Regression Basics')"
   ]
  },
  {
   "cell_type": "markdown",
   "id": "9f434ae4",
   "metadata": {},
   "source": [
    "## 🧠 Quiz\n",
    "- What is the main concept of Linear Regression Basics?\n",
    "- Why is it important in ML?"
   ]
  },
  {
   "cell_type": "markdown",
   "id": "0a6f832f",
   "metadata": {},
   "source": [
    "## 📝 Practice\n",
    "- Implement a basic example related to Linear Regression Basics.\n",
    "- Explore a dataset and apply what you learned."
   ]
  }
 ],
 "metadata": {},
 "nbformat": 4,
 "nbformat_minor": 5
}
