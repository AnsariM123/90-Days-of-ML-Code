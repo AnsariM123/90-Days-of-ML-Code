{
 "cells": [
  {
   "cell_type": "markdown",
   "id": "556ecbff",
   "metadata": {},
   "source": [
    "# Day 43 - Pooling and Flattening Layers\n"
   ]
  },
  {
   "cell_type": "markdown",
   "id": "d42210ae",
   "metadata": {},
   "source": [
    "Welcome to Day 43 of the 90 Days of ML Code journey!\n",
    "\n",
    "**Topic:** Pooling and Flattening Layers\n",
    "\n",
    "Let's dive into today's topic."
   ]
  },
  {
   "cell_type": "code",
   "execution_count": null,
   "id": "e11aefe3",
   "metadata": {},
   "outputs": [],
   "source": [
    "# Example code for Pooling and Flattening Layers\n",
    "print('This is Day 43: Pooling and Flattening Layers')"
   ]
  },
  {
   "cell_type": "markdown",
   "id": "15331216",
   "metadata": {},
   "source": [
    "## 🧠 Quiz\n",
    "- What is the main concept of Pooling and Flattening Layers?\n",
    "- Why is it important in ML?"
   ]
  },
  {
   "cell_type": "markdown",
   "id": "0c1e917c",
   "metadata": {},
   "source": [
    "## 📝 Practice\n",
    "- Implement a basic example related to Pooling and Flattening Layers.\n",
    "- Explore a dataset and apply what you learned."
   ]
  }
 ],
 "metadata": {},
 "nbformat": 4,
 "nbformat_minor": 5
}
