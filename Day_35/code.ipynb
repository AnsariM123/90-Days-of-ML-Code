{
 "cells": [
  {
   "cell_type": "markdown",
   "id": "bf76fa94",
   "metadata": {},
   "source": [
    "# Day 35 - Customer Segmentation Project\n"
   ]
  },
  {
   "cell_type": "markdown",
   "id": "6dc2ed56",
   "metadata": {},
   "source": [
    "Welcome to Day 35 of the 90 Days of ML Code journey!\n",
    "\n",
    "**Topic:** Customer Segmentation Project\n",
    "\n",
    "Let's dive into today's topic."
   ]
  },
  {
   "cell_type": "code",
   "execution_count": null,
   "id": "897977f3",
   "metadata": {},
   "outputs": [],
   "source": [
    "# Example code for Customer Segmentation Project\n",
    "print('This is Day 35: Customer Segmentation Project')"
   ]
  },
  {
   "cell_type": "markdown",
   "id": "bb820379",
   "metadata": {},
   "source": [
    "## 🧠 Quiz\n",
    "- What is the main concept of Customer Segmentation Project?\n",
    "- Why is it important in ML?"
   ]
  },
  {
   "cell_type": "markdown",
   "id": "f6c6b7f8",
   "metadata": {},
   "source": [
    "## 📝 Practice\n",
    "- Implement a basic example related to Customer Segmentation Project.\n",
    "- Explore a dataset and apply what you learned."
   ]
  }
 ],
 "metadata": {},
 "nbformat": 4,
 "nbformat_minor": 5
}
