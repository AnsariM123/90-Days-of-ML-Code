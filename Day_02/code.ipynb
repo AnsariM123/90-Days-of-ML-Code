{
 "cells": [
  {
   "cell_type": "markdown",
   "id": "32da595b",
   "metadata": {},
   "source": [
    "# Day 02 - Python Basics for ML\n"
   ]
  },
  {
   "cell_type": "markdown",
   "id": "13108ac3",
   "metadata": {},
   "source": [
    "Welcome to Day 02 of the 90 Days of ML Code journey!\n",
    "\n",
    "**Topic:** Python Basics for ML\n",
    "\n",
    "Let's dive into today's topic."
   ]
  },
  {
   "cell_type": "code",
   "execution_count": null,
   "id": "c727f091",
   "metadata": {},
   "outputs": [],
   "source": [
    "# Example code for Python Basics for ML\n",
    "print('This is Day 02: Python Basics for ML')"
   ]
  },
  {
   "cell_type": "markdown",
   "id": "f018a7a4",
   "metadata": {},
   "source": [
    "## 🧠 Quiz\n",
    "- What is the main concept of Python Basics for ML?\n",
    "- Why is it important in ML?"
   ]
  },
  {
   "cell_type": "markdown",
   "id": "c9a9a5ab",
   "metadata": {},
   "source": [
    "## 📝 Practice\n",
    "- Implement a basic example related to Python Basics for ML.\n",
    "- Explore a dataset and apply what you learned."
   ]
  }
 ],
 "metadata": {},
 "nbformat": 4,
 "nbformat_minor": 5
}
