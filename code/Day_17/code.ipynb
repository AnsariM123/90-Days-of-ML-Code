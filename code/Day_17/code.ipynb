{
 "cells": [
  {
   "cell_type": "markdown",
   "id": "fa403188",
   "metadata": {},
   "source": [
    "# Day 17 - ROC-AUC Curve\n"
   ]
  },
  {
   "cell_type": "markdown",
   "id": "26ea9050",
   "metadata": {},
   "source": [
    "Welcome to Day 17 of the 90 Days of ML Code journey!\n",
    "\n",
    "**Topic:** ROC-AUC Curve\n",
    "\n",
    "Let's dive into today's topic."
   ]
  },
  {
   "cell_type": "code",
   "execution_count": null,
   "id": "b6c8fb56",
   "metadata": {},
   "outputs": [],
   "source": [
    "# Example code for ROC-AUC Curve\n",
    "print('This is Day 17: ROC-AUC Curve')"
   ]
  },
  {
   "cell_type": "markdown",
   "id": "c0bd3468",
   "metadata": {},
   "source": [
    "## 🧠 Quiz\n",
    "- What is the main concept of ROC-AUC Curve?\n",
    "- Why is it important in ML?"
   ]
  },
  {
   "cell_type": "markdown",
   "id": "80ac06b1",
   "metadata": {},
   "source": [
    "## 📝 Practice\n",
    "- Implement a basic example related to ROC-AUC Curve.\n",
    "- Explore a dataset and apply what you learned."
   ]
  }
 ],
 "metadata": {},
 "nbformat": 4,
 "nbformat_minor": 5
}
