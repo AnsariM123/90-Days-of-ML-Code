{
 "cells": [
  {
   "cell_type": "markdown",
   "id": "dd94be46",
   "metadata": {},
   "source": [
    "# Day 38 - Activation and Loss Functions\n"
   ]
  },
  {
   "cell_type": "markdown",
   "id": "21caf4b5",
   "metadata": {},
   "source": [
    "Welcome to Day 38 of the 90 Days of ML Code journey!\n",
    "\n",
    "**Topic:** Activation and Loss Functions\n",
    "\n",
    "Let's dive into today's topic."
   ]
  },
  {
   "cell_type": "code",
   "execution_count": null,
   "id": "4e6a68a7",
   "metadata": {},
   "outputs": [],
   "source": [
    "# Example code for Activation and Loss Functions\n",
    "print('This is Day 38: Activation and Loss Functions')"
   ]
  },
  {
   "cell_type": "markdown",
   "id": "939b8ab4",
   "metadata": {},
   "source": [
    "## 🧠 Quiz\n",
    "- What is the main concept of Activation and Loss Functions?\n",
    "- Why is it important in ML?"
   ]
  },
  {
   "cell_type": "markdown",
   "id": "f5531f48",
   "metadata": {},
   "source": [
    "## 📝 Practice\n",
    "- Implement a basic example related to Activation and Loss Functions.\n",
    "- Explore a dataset and apply what you learned."
   ]
  }
 ],
 "metadata": {},
 "nbformat": 4,
 "nbformat_minor": 5
}
