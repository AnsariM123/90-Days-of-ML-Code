{
 "cells": [
  {
   "cell_type": "markdown",
   "id": "08911204",
   "metadata": {},
   "source": [
    "# Day 05 - Data Visualization with Matplotlib & Seaborn\n"
   ]
  },
  {
   "cell_type": "markdown",
   "id": "d6ff04fe",
   "metadata": {},
   "source": [
    "Welcome to Day 05 of the 90 Days of ML Code journey!\n",
    "\n",
    "**Topic:** Data Visualization with Matplotlib & Seaborn\n",
    "\n",
    "Let's dive into today's topic."
   ]
  },
  {
   "cell_type": "code",
   "execution_count": null,
   "id": "f61711f2",
   "metadata": {},
   "outputs": [],
   "source": [
    "# Example code for Data Visualization with Matplotlib & Seaborn\n",
    "print('This is Day 05: Data Visualization with Matplotlib & Seaborn')"
   ]
  },
  {
   "cell_type": "markdown",
   "id": "cfe64e53",
   "metadata": {},
   "source": [
    "## 🧠 Quiz\n",
    "- What is the main concept of Data Visualization with Matplotlib & Seaborn?\n",
    "- Why is it important in ML?"
   ]
  },
  {
   "cell_type": "markdown",
   "id": "2633cc31",
   "metadata": {},
   "source": [
    "## 📝 Practice\n",
    "- Implement a basic example related to Data Visualization with Matplotlib & Seaborn.\n",
    "- Explore a dataset and apply what you learned."
   ]
  }
 ],
 "metadata": {},
 "nbformat": 4,
 "nbformat_minor": 5
}
