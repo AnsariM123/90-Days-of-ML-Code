{
 "cells": [
  {
   "cell_type": "markdown",
   "id": "d80e19d0",
   "metadata": {},
   "source": [
    "# Day 21 - Overfitting vs Underfitting\n"
   ]
  },
  {
   "cell_type": "markdown",
   "id": "b1af0901",
   "metadata": {},
   "source": [
    "Welcome to Day 21 of the 90 Days of ML Code journey!\n",
    "\n",
    "**Topic:** Overfitting vs Underfitting\n",
    "\n",
    "Let's dive into today's topic."
   ]
  },
  {
   "cell_type": "code",
   "execution_count": null,
   "id": "3bd8acda",
   "metadata": {},
   "outputs": [],
   "source": [
    "# Example code for Overfitting vs Underfitting\n",
    "print('This is Day 21: Overfitting vs Underfitting')"
   ]
  },
  {
   "cell_type": "markdown",
   "id": "9edc6a9d",
   "metadata": {},
   "source": [
    "## 🧠 Quiz\n",
    "- What is the main concept of Overfitting vs Underfitting?\n",
    "- Why is it important in ML?"
   ]
  },
  {
   "cell_type": "markdown",
   "id": "1bc37394",
   "metadata": {},
   "source": [
    "## 📝 Practice\n",
    "- Implement a basic example related to Overfitting vs Underfitting.\n",
    "- Explore a dataset and apply what you learned."
   ]
  }
 ],
 "metadata": {},
 "nbformat": 4,
 "nbformat_minor": 5
}
