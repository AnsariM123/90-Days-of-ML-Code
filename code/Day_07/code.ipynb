{
 "cells": [
  {
   "cell_type": "markdown",
   "id": "355a56cb",
   "metadata": {},
   "source": [
    "# Day 07 - Handling Missing Data & Outliers\n"
   ]
  },
  {
   "cell_type": "markdown",
   "id": "e6cbebf6",
   "metadata": {},
   "source": [
    "Welcome to Day 07 of the 90 Days of ML Code journey!\n",
    "\n",
    "**Topic:** Handling Missing Data & Outliers\n",
    "\n",
    "Let's dive into today's topic."
   ]
  },
  {
   "cell_type": "code",
   "execution_count": null,
   "id": "41f67819",
   "metadata": {},
   "outputs": [],
   "source": [
    "# Example code for Handling Missing Data & Outliers\n",
    "print('This is Day 07: Handling Missing Data & Outliers')"
   ]
  },
  {
   "cell_type": "markdown",
   "id": "2a24f992",
   "metadata": {},
   "source": [
    "## 🧠 Quiz\n",
    "- What is the main concept of Handling Missing Data & Outliers?\n",
    "- Why is it important in ML?"
   ]
  },
  {
   "cell_type": "markdown",
   "id": "1474828b",
   "metadata": {},
   "source": [
    "## 📝 Practice\n",
    "- Implement a basic example related to Handling Missing Data & Outliers.\n",
    "- Explore a dataset and apply what you learned."
   ]
  }
 ],
 "metadata": {},
 "nbformat": 4,
 "nbformat_minor": 5
}
