{
 "cells": [
  {
   "cell_type": "markdown",
   "id": "186b5250",
   "metadata": {},
   "source": [
    "# Day 08 - Supervised vs Unsupervised Learning\n"
   ]
  },
  {
   "cell_type": "markdown",
   "id": "e2154dde",
   "metadata": {},
   "source": [
    "Welcome to Day 08 of the 90 Days of ML Code journey!\n",
    "\n",
    "**Topic:** Supervised vs Unsupervised Learning\n",
    "\n",
    "Let's dive into today's topic."
   ]
  },
  {
   "cell_type": "code",
   "execution_count": null,
   "id": "27c8c758",
   "metadata": {},
   "outputs": [],
   "source": [
    "# Example code for Supervised vs Unsupervised Learning\n",
    "print('This is Day 08: Supervised vs Unsupervised Learning')"
   ]
  },
  {
   "cell_type": "markdown",
   "id": "ed05044a",
   "metadata": {},
   "source": [
    "## 🧠 Quiz\n",
    "- What is the main concept of Supervised vs Unsupervised Learning?\n",
    "- Why is it important in ML?"
   ]
  },
  {
   "cell_type": "markdown",
   "id": "3936827c",
   "metadata": {},
   "source": [
    "## 📝 Practice\n",
    "- Implement a basic example related to Supervised vs Unsupervised Learning.\n",
    "- Explore a dataset and apply what you learned."
   ]
  }
 ],
 "metadata": {},
 "nbformat": 4,
 "nbformat_minor": 5
}
