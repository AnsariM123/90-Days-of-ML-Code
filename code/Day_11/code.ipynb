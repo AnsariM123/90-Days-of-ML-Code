{
 "cells": [
  {
   "cell_type": "markdown",
   "id": "14969299",
   "metadata": {},
   "source": [
    "# Day 11 - Ridge & Lasso Regression\n"
   ]
  },
  {
   "cell_type": "markdown",
   "id": "e34f61f7",
   "metadata": {},
   "source": [
    "Welcome to Day 11 of the 90 Days of ML Code journey!\n",
    "\n",
    "**Topic:** Ridge & Lasso Regression\n",
    "\n",
    "Let's dive into today's topic."
   ]
  },
  {
   "cell_type": "code",
   "execution_count": null,
   "id": "49905e1b",
   "metadata": {},
   "outputs": [],
   "source": [
    "# Example code for Ridge & Lasso Regression\n",
    "print('This is Day 11: Ridge & Lasso Regression')"
   ]
  },
  {
   "cell_type": "markdown",
   "id": "72870004",
   "metadata": {},
   "source": [
    "## 🧠 Quiz\n",
    "- What is the main concept of Ridge & Lasso Regression?\n",
    "- Why is it important in ML?"
   ]
  },
  {
   "cell_type": "markdown",
   "id": "cbacebd0",
   "metadata": {},
   "source": [
    "## 📝 Practice\n",
    "- Implement a basic example related to Ridge & Lasso Regression.\n",
    "- Explore a dataset and apply what you learned."
   ]
  }
 ],
 "metadata": {},
 "nbformat": 4,
 "nbformat_minor": 5
}
