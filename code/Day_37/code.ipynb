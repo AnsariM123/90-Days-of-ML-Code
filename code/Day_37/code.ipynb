{
 "cells": [
  {
   "cell_type": "markdown",
   "id": "f39411d9",
   "metadata": {},
   "source": [
    "# Day 37 - Forward and Backward Propagation\n"
   ]
  },
  {
   "cell_type": "markdown",
   "id": "4e56c8de",
   "metadata": {},
   "source": [
    "Welcome to Day 37 of the 90 Days of ML Code journey!\n",
    "\n",
    "**Topic:** Forward and Backward Propagation\n",
    "\n",
    "Let's dive into today's topic."
   ]
  },
  {
   "cell_type": "code",
   "execution_count": null,
   "id": "703ecff1",
   "metadata": {},
   "outputs": [],
   "source": [
    "# Example code for Forward and Backward Propagation\n",
    "print('This is Day 37: Forward and Backward Propagation')"
   ]
  },
  {
   "cell_type": "markdown",
   "id": "d22cbe20",
   "metadata": {},
   "source": [
    "## 🧠 Quiz\n",
    "- What is the main concept of Forward and Backward Propagation?\n",
    "- Why is it important in ML?"
   ]
  },
  {
   "cell_type": "markdown",
   "id": "8a6ba9d6",
   "metadata": {},
   "source": [
    "## 📝 Practice\n",
    "- Implement a basic example related to Forward and Backward Propagation.\n",
    "- Explore a dataset and apply what you learned."
   ]
  }
 ],
 "metadata": {},
 "nbformat": 4,
 "nbformat_minor": 5
}
