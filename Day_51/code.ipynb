{
 "cells": [
  {
   "cell_type": "markdown",
   "id": "6540f7c5",
   "metadata": {},
   "source": [
    "# Day 51 - Bag-of-Words & TF-IDF\n"
   ]
  },
  {
   "cell_type": "markdown",
   "id": "93d8df84",
   "metadata": {},
   "source": [
    "Welcome to Day 51 of the 90 Days of ML Code journey!\n",
    "\n",
    "**Topic:** Bag-of-Words & TF-IDF\n",
    "\n",
    "Let's dive into today's topic."
   ]
  },
  {
   "cell_type": "code",
   "execution_count": null,
   "id": "55cdb3a9",
   "metadata": {},
   "outputs": [],
   "source": [
    "# Example code for Bag-of-Words & TF-IDF\n",
    "print('This is Day 51: Bag-of-Words & TF-IDF')"
   ]
  },
  {
   "cell_type": "markdown",
   "id": "9aace6a6",
   "metadata": {},
   "source": [
    "## 🧠 Quiz\n",
    "- What is the main concept of Bag-of-Words & TF-IDF?\n",
    "- Why is it important in ML?"
   ]
  },
  {
   "cell_type": "markdown",
   "id": "c199b823",
   "metadata": {},
   "source": [
    "## 📝 Practice\n",
    "- Implement a basic example related to Bag-of-Words & TF-IDF.\n",
    "- Explore a dataset and apply what you learned."
   ]
  }
 ],
 "metadata": {},
 "nbformat": 4,
 "nbformat_minor": 5
}
