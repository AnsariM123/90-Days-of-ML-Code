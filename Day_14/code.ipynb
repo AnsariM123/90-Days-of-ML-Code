{
 "cells": [
  {
   "cell_type": "markdown",
   "id": "102bfd0f",
   "metadata": {},
   "source": [
    "# Day 14 - Decision Trees\n"
   ]
  },
  {
   "cell_type": "markdown",
   "id": "767c2c9c",
   "metadata": {},
   "source": [
    "Welcome to Day 14 of the 90 Days of ML Code journey!\n",
    "\n",
    "**Topic:** Decision Trees\n",
    "\n",
    "Let's dive into today's topic."
   ]
  },
  {
   "cell_type": "code",
   "execution_count": null,
   "id": "53e0d026",
   "metadata": {},
   "outputs": [],
   "source": [
    "# Example code for Decision Trees\n",
    "print('This is Day 14: Decision Trees')"
   ]
  },
  {
   "cell_type": "markdown",
   "id": "305dc63a",
   "metadata": {},
   "source": [
    "## 🧠 Quiz\n",
    "- What is the main concept of Decision Trees?\n",
    "- Why is it important in ML?"
   ]
  },
  {
   "cell_type": "markdown",
   "id": "ebb0d665",
   "metadata": {},
   "source": [
    "## 📝 Practice\n",
    "- Implement a basic example related to Decision Trees.\n",
    "- Explore a dataset and apply what you learned."
   ]
  }
 ],
 "metadata": {},
 "nbformat": 4,
 "nbformat_minor": 5
}
