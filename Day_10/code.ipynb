{
 "cells": [
  {
   "cell_type": "markdown",
   "id": "353e75bd",
   "metadata": {},
   "source": [
    "# Day 10 - Polynomial Regression\n"
   ]
  },
  {
   "cell_type": "markdown",
   "id": "b368d15b",
   "metadata": {},
   "source": [
    "Welcome to Day 10 of the 90 Days of ML Code journey!\n",
    "\n",
    "**Topic:** Polynomial Regression\n",
    "\n",
    "Let's dive into today's topic."
   ]
  },
  {
   "cell_type": "code",
   "execution_count": null,
   "id": "973d18f4",
   "metadata": {},
   "outputs": [],
   "source": [
    "# Example code for Polynomial Regression\n",
    "print('This is Day 10: Polynomial Regression')"
   ]
  },
  {
   "cell_type": "markdown",
   "id": "6a33c102",
   "metadata": {},
   "source": [
    "## 🧠 Quiz\n",
    "- What is the main concept of Polynomial Regression?\n",
    "- Why is it important in ML?"
   ]
  },
  {
   "cell_type": "markdown",
   "id": "b2a3148b",
   "metadata": {},
   "source": [
    "## 📝 Practice\n",
    "- Implement a basic example related to Polynomial Regression.\n",
    "- Explore a dataset and apply what you learned."
   ]
  }
 ],
 "metadata": {},
 "nbformat": 4,
 "nbformat_minor": 5
}
