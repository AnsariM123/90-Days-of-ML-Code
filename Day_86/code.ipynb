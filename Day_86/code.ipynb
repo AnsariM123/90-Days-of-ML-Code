{
 "cells": [
  {
   "cell_type": "markdown",
   "id": "f509b62a",
   "metadata": {},
   "source": [
    "# Day 86 - How to Contribute to Open Source\n"
   ]
  },
  {
   "cell_type": "markdown",
   "id": "5f9f762a",
   "metadata": {},
   "source": [
    "Welcome to Day 86 of the 90 Days of ML Code journey!\n",
    "\n",
    "**Topic:** How to Contribute to Open Source\n",
    "\n",
    "Let's dive into today's topic."
   ]
  },
  {
   "cell_type": "code",
   "execution_count": null,
   "id": "e851bb49",
   "metadata": {},
   "outputs": [],
   "source": [
    "# Example code for How to Contribute to Open Source\n",
    "print('This is Day 86: How to Contribute to Open Source')"
   ]
  },
  {
   "cell_type": "markdown",
   "id": "2ae6369e",
   "metadata": {},
   "source": [
    "## 🧠 Quiz\n",
    "- What is the main concept of How to Contribute to Open Source?\n",
    "- Why is it important in ML?"
   ]
  },
  {
   "cell_type": "markdown",
   "id": "45c5177f",
   "metadata": {},
   "source": [
    "## 📝 Practice\n",
    "- Implement a basic example related to How to Contribute to Open Source.\n",
    "- Explore a dataset and apply what you learned."
   ]
  }
 ],
 "metadata": {},
 "nbformat": 4,
 "nbformat_minor": 5
}
